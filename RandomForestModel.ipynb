{
 "cells": [
  {
   "cell_type": "code",
   "execution_count": 4,
   "metadata": {},
   "outputs": [
    {
     "name": "stdout",
     "output_type": "stream",
     "text": [
      "Random Forest Performance:\n",
      "Accuracy: 99.83%\n",
      "Precision: 0.9965\n"
     ]
    }
   ],
   "source": [
    "import numpy as np\n",
    "from sklearn.model_selection import train_test_split\n",
    "from sklearn.ensemble import RandomForestClassifier\n",
    "from sklearn.metrics import precision_score, recall_score, f1_score, accuracy_score, confusion_matrix\n",
    "\n",
    "# Load the dataset\n",
    "cheaters = np.load(\"data/cheaters.npy\")\n",
    "clean = np.load(\"data/legit.npy\")\n",
    "\n",
    "# Upsample cheaters to balance classes\n",
    "cheaters = np.repeat(cheaters, 5, axis=0)\n",
    "cheaters_labels = np.ones(10000, dtype=np.float32)\n",
    "clean_labels = np.zeros(10000, dtype=np.float32)\n",
    "\n",
    "# Combine data and labels\n",
    "x = np.concatenate((cheaters, clean))\n",
    "y = np.concatenate((cheaters_labels, clean_labels))\n",
    "\n",
    "# Flatten the data for Random Forest input (if necessary)\n",
    "x = x.reshape(x.shape[0], -1)\n",
    "\n",
    "# Split into training and testing sets\n",
    "x_train, x_test, y_train, y_test = train_test_split(x, y, test_size=0.2, stratify=y, random_state=17)\n",
    "\n",
    "# Initialize and train the Random Forest Classifier\n",
    "rf = RandomForestClassifier(n_estimators=100, random_state=17, class_weight='balanced')\n",
    "rf.fit(x_train, y_train)\n",
    "\n",
    "# Evaluate the model\n",
    "y_pred = rf.predict(x_test)\n",
    "accuracy = accuracy_score(y_test, y_pred)\n",
    "precision = precision_score(y_test, y_pred)\n",
    "recall = recall_score(y_test, y_pred)\n",
    "f1 = f1_score(y_test, y_pred)\n",
    "\n",
    "print(\"Random Forest Performance:\")\n",
    "print(f\"Accuracy: {accuracy * 100:.2f}%\")\n",
    "print(f\"Precision: {precision:.4f}\")"
   ]
  },
  {
   "cell_type": "code",
   "execution_count": null,
   "metadata": {},
   "outputs": [],
   "source": []
  }
 ],
 "metadata": {
  "kernelspec": {
   "display_name": "Python 3 (ipykernel)",
   "language": "python",
   "name": "python3"
  },
  "language_info": {
   "codemirror_mode": {
    "name": "ipython",
    "version": 3
   },
   "file_extension": ".py",
   "mimetype": "text/x-python",
   "name": "python",
   "nbconvert_exporter": "python",
   "pygments_lexer": "ipython3",
   "version": "3.8.10"
  }
 },
 "nbformat": 4,
 "nbformat_minor": 4
}
