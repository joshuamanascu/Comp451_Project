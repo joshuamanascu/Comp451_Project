{
 "cells": [
  {
   "cell_type": "code",
   "execution_count": 1,
   "metadata": {
    "id": "x8F5l2-kJ1HG"
   },
   "outputs": [],
   "source": [
    "import numpy as np\n",
    "from sklearn.model_selection import train_test_split"
   ]
  },
  {
   "cell_type": "code",
   "execution_count": 2,
   "metadata": {
    "id": "dzrQBeSbJ1HI"
   },
   "outputs": [],
   "source": [
    "# Load the Drive helper and mount\n",
    "#from google.colab import drive\n",
    "#drive.mount('/content/drive')\n",
    "\n",
    "#cheaters = np.load(\"drive/MyDrive/Comp 451 Final Project/data/cheaters.npy\")\n",
    "#clean = np.load(\"drive/MyDrive/Comp 451 Final Project/data/legit.npy\")\n",
    "\n",
    "#Upsample cheaters\n",
    "#cheaters = np.repeat(cheaters, 5, axis=0)"
   ]
  },
  {
   "cell_type": "code",
   "execution_count": 3,
   "metadata": {
    "colab": {
     "base_uri": "https://localhost:8080/",
     "height": 287
    },
    "id": "Es2d5VCn-t-P",
    "outputId": "e3386f21-1426-4131-d9cd-0ebaa50dc4f4"
   },
   "outputs": [],
   "source": [
    "cheaters = np.load(\"data/cheaters.npy\")\n",
    "clean = np.load(\"data/legit.npy\")\n",
    "\n",
    "#Upsample cheaters\n",
    "cheaters = np.repeat(cheaters, 5, axis=0)"
   ]
  },
  {
   "cell_type": "code",
   "execution_count": 4,
   "metadata": {
    "id": "1RZZoaMBJ1HI"
   },
   "outputs": [],
   "source": [
    "#Create labels for both\n",
    "cheaters_labels = np.ones(10000, dtype=np.float32)\n",
    "clean_labels = np.zeros(10000, dtype=np.float32)"
   ]
  },
  {
   "cell_type": "code",
   "execution_count": 5,
   "metadata": {
    "id": "GFO-4ra0J1HI"
   },
   "outputs": [],
   "source": [
    "#Create combined data and labels arrays\n",
    "\n",
    "x = np.concatenate((cheaters, clean))\n",
    "y = np.concatenate((cheaters_labels, clean_labels))\n",
    "\n",
    "del cheaters\n",
    "del clean\n",
    "del cheaters_labels\n",
    "del clean_labels"
   ]
  },
  {
   "cell_type": "code",
   "execution_count": 6,
   "metadata": {
    "id": "c42YH3DTJ1HJ"
   },
   "outputs": [],
   "source": [
    "#Create training, validation, and testing sets\n",
    "\n",
    "#20% for test set\n",
    "x_train, x_test, y_train, y_test= train_test_split(x, y, test_size=0.2, stratify=y, random_state=17)\n",
    "\n",
    "#20% for validation set, 60% for training\n",
    "x_train, x_val, y_train, y_val = train_test_split(x_train, y_train, test_size=0.25, stratify=y_train, random_state=17)\n",
    "\n",
    "\n",
    "del x\n",
    "del y"
   ]
  },
  {
   "cell_type": "code",
   "execution_count": 7,
   "metadata": {
    "id": "jgG2jBbjJ1HJ"
   },
   "outputs": [],
   "source": [
    "import copy\n",
    "import torch\n",
    "import torch.nn as nn\n",
    "import torch.nn.functional as F\n",
    "import torch.optim as optim\n",
    "from torch.utils.data import Dataset, DataLoader\n",
    "\n",
    "class CustomDataset(Dataset):\n",
    "    def __init__(self, x, y):\n",
    "        self.x = torch.tensor(x)\n",
    "        self.y = torch.tensor(y)\n",
    "\n",
    "    def __len__(self):\n",
    "        return len(self.y)\n",
    "\n",
    "    def __getitem__(self, i):\n",
    "        return self.x[i], self.y[i]\n"
   ]
  },
  {
   "cell_type": "code",
   "execution_count": 8,
   "metadata": {
    "id": "nUACmGOLeaYt"
   },
   "outputs": [],
   "source": [
    "#Hyperparameters\n",
    "\n",
    "num_epochs = 10\n",
    "learning_rate = 0.0001\n",
    "batch_size = 16"
   ]
  },
  {
   "cell_type": "code",
   "execution_count": 9,
   "metadata": {
    "id": "O2TJ6D91J1HJ"
   },
   "outputs": [],
   "source": [
    "train_dataset = CustomDataset(x_train, y_train)\n",
    "validation_dataset = CustomDataset(x_val, y_val)\n",
    "test_dataset = CustomDataset(x_test, y_test)\n",
    "\n",
    "train_loader = DataLoader(train_dataset, batch_size=batch_size, shuffle=True)\n",
    "validation_loader = DataLoader(validation_dataset, batch_size=batch_size, shuffle=False)\n",
    "test_loader = DataLoader(test_dataset, batch_size=batch_size, shuffle=False)\n"
   ]
  },
  {
   "cell_type": "code",
   "execution_count": 10,
   "metadata": {
    "id": "Gh8DzBoZeO7P"
   },
   "outputs": [],
   "source": [
    "#Model - JUST TESTING RIGHT NOW\n",
    "\n",
    "class Net(nn.Module):\n",
    "    def __init__(self):\n",
    "        super(Net, self).__init__()\n",
    "\n",
    "        #Input = (1, 30, 192, 5)\n",
    "        self.conv1 = nn.Conv3d(1, 32, kernel_size=3, padding='same')\n",
    "\n",
    "        self.conv2 = nn.Conv3d(32, 64, kernel_size=3, padding='same')\n",
    "        \n",
    "        self.conv3 = nn.Conv3d(64, 128, kernel_size=3, padding='same')\n",
    "        \n",
    "        self.conv4 = nn.Conv3d(128, 256, kernel_size=3, padding='same')\n",
    "        \n",
    "\n",
    "        #Reduce in half\n",
    "        self.pool = nn.MaxPool3d(kernel_size=2)\n",
    "\n",
    "        #(256, 15, 96, 2)\n",
    "        self.fc1 = nn.Linear(256*15*96*2, 256)\n",
    "        self.fc2 = nn.Linear(256,32)\n",
    "        self.fc3 = nn.Linear(32,1)\n",
    "\n",
    "\n",
    "    def forward(self, x):\n",
    "        #Add a dimension for channel\n",
    "        x = x.unsqueeze(1)\n",
    "\n",
    "        x = F.relu(self.conv1(x))\n",
    "        x = F.relu(self.conv2(x))\n",
    "        x = F.relu(self.conv3(x))\n",
    "        x = F.relu(self.conv4(x))\n",
    "\n",
    "        x = self.pool(x)\n",
    "\n",
    "        x = torch.flatten(x, 1)\n",
    "\n",
    "        x = F.relu(self.fc1(x))\n",
    "        x = F.relu(self.fc2(x))\n",
    "        x = self.fc3(x)\n",
    "\n",
    "        return x"
   ]
  },
  {
   "cell_type": "code",
   "execution_count": 11,
   "metadata": {
    "id": "TKym9_GpwfDe"
   },
   "outputs": [],
   "source": [
    "model = Net()\n",
    "device = torch.device('cuda' if torch.cuda.is_available() else 'cpu')\n",
    "model.to(device)\n",
    "\n",
    "loss_fn = nn.BCEWithLogitsLoss()\n",
    "optimizer = optim.Adam(model.parameters(), lr=learning_rate)\n",
    "\n",
    "scheduler = optim.lr_scheduler.ReduceLROnPlateau(optimizer, mode='min', factor=0.5, patience=2)"
   ]
  },
  {
   "cell_type": "code",
   "execution_count": 12,
   "metadata": {
    "id": "uZJZDFzpgOHe"
   },
   "outputs": [
    {
     "name": "stdout",
     "output_type": "stream",
     "text": [
      "0.695533310731252\n",
      "0.6698111934661866\n",
      "0.5916887171268463\n",
      "0.519038637638092\n",
      "0.2863298390458027\n",
      "0.32120705059170723\n",
      "0.0620085277093652\n",
      "0.35036474744416773\n",
      "0.02646974816271298\n",
      "0.3655677639814094\n",
      "0.02849385210676701\n",
      "0.4986023560301401\n",
      "0.01074636545565833\n",
      "0.4679183023109799\n",
      "0.0048051050316959545\n",
      "0.3654648528418038\n",
      "0.004402330020886439\n",
      "0.37595154805865605\n",
      "0.0033837077766123306\n",
      "0.3621768632570747\n",
      "Best Validation Loss: 0.3212\n"
     ]
    }
   ],
   "source": [
    "#MODEL TRAINING\n",
    "\n",
    "best_validation_loss = np.inf\n",
    "best_model = copy.deepcopy(model.state_dict())\n",
    "\n",
    "for epoch in range(num_epochs):\n",
    "    training_loss = 0.0\n",
    "\n",
    "    model.train()\n",
    "\n",
    "    #TRAINING\n",
    "    for inputs, labels in train_loader:\n",
    "        inputs = inputs.to(device)\n",
    "        labels = labels.to(device)\n",
    "\n",
    "        optimizer.zero_grad()\n",
    "\n",
    "        # forward + backward + optimize\n",
    "        outputs = model(inputs).squeeze()\n",
    "\n",
    "        #print(outputs)\n",
    "\n",
    "        loss = loss_fn(outputs, labels)\n",
    "        loss.backward()\n",
    "        optimizer.step()\n",
    "\n",
    "        # print statistics\n",
    "        training_loss += loss.item()\n",
    "\n",
    "\n",
    "    #VALIDATION\n",
    "    model.eval()\n",
    "    validation_loss = 0.0\n",
    "\n",
    "    with torch.no_grad():\n",
    "        for inputs, labels in validation_loader:\n",
    "            inputs = inputs.to(device)\n",
    "            labels = labels.to(device)\n",
    "\n",
    "            outputs = model(inputs).squeeze()\n",
    "            loss = loss_fn(outputs, labels)\n",
    "\n",
    "            validation_loss += loss.item()\n",
    "\n",
    "    validation_loss = validation_loss / len(validation_loader)\n",
    "\n",
    "    scheduler.step(validation_loss)\n",
    "\n",
    "    if validation_loss < best_validation_loss:\n",
    "        best_validation_loss = validation_loss\n",
    "        best_model = copy.deepcopy(model.state_dict())\n",
    "\n",
    "    print(training_loss / len(train_loader))\n",
    "    print(validation_loss)\n",
    "\n",
    "# Load the best model\n",
    "model.load_state_dict(best_model)\n",
    "print(f'Best Validation Loss: {best_validation_loss:.4f}')"
   ]
  },
  {
   "cell_type": "code",
   "execution_count": 24,
   "metadata": {
    "id": "s94_FhlK0npd"
   },
   "outputs": [],
   "source": [
    "\n",
    "def test_CNN(threshold):\n",
    "    correct = 0\n",
    "    total = 0\n",
    "    with torch.no_grad():\n",
    "        for inputs, labels in test_loader:\n",
    "            inputs = inputs.to(device)\n",
    "            labels = labels.to(device)\n",
    "\n",
    "            outputs = model(inputs).squeeze()\n",
    "\n",
    "            #outputs = F.sigmoid(outputs).round()\n",
    "\n",
    "            outputs = F.sigmoid(outputs)\n",
    "            outputs = (outputs >= threshold).float()\n",
    "\n",
    "\n",
    "            total += labels.size(0)\n",
    "            correct += (outputs == labels).sum().item()\n",
    "\n",
    "\n",
    "    print('Threshold: %.2f, Accuracy of the network: %.2f %%' % (threshold, 100 * correct / total))"
   ]
  },
  {
   "cell_type": "code",
   "execution_count": 25,
   "metadata": {},
   "outputs": [
    {
     "name": "stdout",
     "output_type": "stream",
     "text": [
      "Threshold: 0.50, Accuracy of the network: 88.10 %\n",
      "Threshold: 0.51, Accuracy of the network: 88.08 %\n",
      "Threshold: 0.52, Accuracy of the network: 88.12 %\n",
      "Threshold: 0.53, Accuracy of the network: 88.12 %\n",
      "Threshold: 0.54, Accuracy of the network: 88.15 %\n",
      "Threshold: 0.55, Accuracy of the network: 88.28 %\n",
      "Threshold: 0.56, Accuracy of the network: 88.15 %\n",
      "Threshold: 0.57, Accuracy of the network: 87.90 %\n",
      "Threshold: 0.58, Accuracy of the network: 87.90 %\n",
      "Threshold: 0.59, Accuracy of the network: 87.88 %\n",
      "Threshold: 0.60, Accuracy of the network: 87.78 %\n",
      "Threshold: 0.61, Accuracy of the network: 87.90 %\n",
      "Threshold: 0.62, Accuracy of the network: 87.90 %\n",
      "Threshold: 0.63, Accuracy of the network: 87.70 %\n",
      "Threshold: 0.64, Accuracy of the network: 87.62 %\n",
      "Threshold: 0.65, Accuracy of the network: 87.42 %\n",
      "Threshold: 0.66, Accuracy of the network: 87.20 %\n",
      "Threshold: 0.67, Accuracy of the network: 87.08 %\n",
      "Threshold: 0.68, Accuracy of the network: 86.72 %\n",
      "Threshold: 0.69, Accuracy of the network: 86.47 %\n",
      "Threshold: 0.70, Accuracy of the network: 85.97 %\n",
      "Threshold: 0.71, Accuracy of the network: 85.50 %\n",
      "Threshold: 0.72, Accuracy of the network: 85.33 %\n",
      "Threshold: 0.73, Accuracy of the network: 84.97 %\n",
      "Threshold: 0.74, Accuracy of the network: 84.60 %\n",
      "Threshold: 0.75, Accuracy of the network: 84.42 %\n",
      "Threshold: 0.76, Accuracy of the network: 83.97 %\n",
      "Threshold: 0.77, Accuracy of the network: 83.90 %\n",
      "Threshold: 0.78, Accuracy of the network: 83.55 %\n",
      "Threshold: 0.79, Accuracy of the network: 83.30 %\n",
      "Threshold: 0.80, Accuracy of the network: 82.95 %\n",
      "Threshold: 0.81, Accuracy of the network: 82.50 %\n",
      "Threshold: 0.82, Accuracy of the network: 82.03 %\n",
      "Threshold: 0.83, Accuracy of the network: 81.40 %\n",
      "Threshold: 0.84, Accuracy of the network: 80.85 %\n",
      "Threshold: 0.85, Accuracy of the network: 80.47 %\n",
      "Threshold: 0.86, Accuracy of the network: 79.40 %\n",
      "Threshold: 0.87, Accuracy of the network: 78.75 %\n",
      "Threshold: 0.88, Accuracy of the network: 77.80 %\n",
      "Threshold: 0.89, Accuracy of the network: 76.70 %\n",
      "Threshold: 0.90, Accuracy of the network: 76.15 %\n",
      "Threshold: 0.91, Accuracy of the network: 74.95 %\n",
      "Threshold: 0.92, Accuracy of the network: 73.45 %\n",
      "Threshold: 0.93, Accuracy of the network: 71.88 %\n",
      "Threshold: 0.94, Accuracy of the network: 69.97 %\n",
      "Threshold: 0.95, Accuracy of the network: 68.38 %\n",
      "Threshold: 0.96, Accuracy of the network: 66.58 %\n",
      "Threshold: 0.97, Accuracy of the network: 64.28 %\n",
      "Threshold: 0.98, Accuracy of the network: 61.83 %\n",
      "Threshold: 0.99, Accuracy of the network: 57.75 %\n"
     ]
    }
   ],
   "source": [
    "for threshold in range(50, 100, 1):\n",
    "    test_CNN(threshold/100)"
   ]
  },
  {
   "cell_type": "code",
   "execution_count": null,
   "metadata": {},
   "outputs": [],
   "source": []
  },
  {
   "cell_type": "code",
   "execution_count": null,
   "metadata": {},
   "outputs": [],
   "source": []
  }
 ],
 "metadata": {
  "colab": {
   "provenance": []
  },
  "kernelspec": {
   "display_name": "Python 3 (ipykernel)",
   "language": "python",
   "name": "python3"
  },
  "language_info": {
   "codemirror_mode": {
    "name": "ipython",
    "version": 3
   },
   "file_extension": ".py",
   "mimetype": "text/x-python",
   "name": "python",
   "nbconvert_exporter": "python",
   "pygments_lexer": "ipython3",
   "version": "3.8.10"
  }
 },
 "nbformat": 4,
 "nbformat_minor": 1
}
